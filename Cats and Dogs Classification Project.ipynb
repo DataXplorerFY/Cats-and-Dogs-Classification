{
 "cells": [
  {
   "cell_type": "markdown",
   "id": "f46f6b46",
   "metadata": {},
   "source": [
    "# Classifying Cat and Dog Images Using CNN-"
   ]
  },
  {
   "cell_type": "code",
   "execution_count": 1,
   "id": "a76deac4",
   "metadata": {},
   "outputs": [],
   "source": [
    "import os, shutil"
   ]
  },
  {
   "cell_type": "code",
   "execution_count": 9,
   "id": "2444d07b",
   "metadata": {},
   "outputs": [],
   "source": [
    "original_dataset_dir = r'D:\\AI course\\Quarter 3\\Class 2\\Dogs-vs-cats\\Traning'"
   ]
  },
  {
   "cell_type": "code",
   "execution_count": 4,
   "id": "edfd139f",
   "metadata": {},
   "outputs": [],
   "source": [
    "base_dir = 'D:\\AI course\\Quarter 3\\Class 2\\Dogs-vs-cats\\Cats n Dogs'\n",
    "os.mkdir(base_dir)"
   ]
  },
  {
   "cell_type": "code",
   "execution_count": 5,
   "id": "efdcc588",
   "metadata": {},
   "outputs": [],
   "source": [
    "train_dir = os.path.join(base_dir, 'train')\n",
    "os.mkdir(train_dir)\n",
    "\n",
    "\n",
    "validation_dir = os.path.join(base_dir, 'validation')\n",
    "os.mkdir(validation_dir)\n",
    "\n",
    "\n",
    "test_dir = os.path.join(base_dir, 'test')\n",
    "os.mkdir(test_dir)"
   ]
  },
  {
   "cell_type": "code",
   "execution_count": 6,
   "id": "d9a28da9",
   "metadata": {},
   "outputs": [],
   "source": [
    "train_cats_dir = os.path.join(train_dir, 'cats')\n",
    "os.mkdir(train_cats_dir)\n",
    "\n",
    "train_dogs_dir = os.path.join(train_dir, 'dogs')\n",
    "os.mkdir(train_dogs_dir)"
   ]
  },
  {
   "cell_type": "code",
   "execution_count": 7,
   "id": "9dd27233",
   "metadata": {},
   "outputs": [],
   "source": [
    "validation_cats_dir = os.path.join(validation_dir, 'cats')\n",
    "os.mkdir(validation_cats_dir)\n",
    "\n",
    "validation_dogs_dir = os.path.join(validation_dir, 'dogs')\n",
    "os.mkdir(validation_dogs_dir)"
   ]
  },
  {
   "cell_type": "code",
   "execution_count": 8,
   "id": "3884203a",
   "metadata": {},
   "outputs": [],
   "source": [
    "test_cats_dir = os.path.join(test_dir, 'cats')\n",
    "os.mkdir(test_cats_dir)\n",
    "\n",
    "test_dogs_dir = os.path.join(test_dir, 'dogs')\n",
    "os.mkdir(test_dogs_dir)"
   ]
  },
  {
   "cell_type": "code",
   "execution_count": 10,
   "id": "8d1bc17c",
   "metadata": {},
   "outputs": [],
   "source": [
    "fnames = ['cat.{}.jpg'.format(i) for i in range(1000)]\n",
    "\n",
    "# its second method >>>>>   fnames = [f'cat.{i}.jpg' for i in range(1000)]\n",
    "\n",
    "\n",
    "for fname in fnames:\n",
    "    src = os.path.join(original_dataset_dir, fname) \n",
    "    # D:\\AI course\\Quarter 3\\Class 2\\Dogs-vs-cats\\Traning\\ cat.o.jpg\n",
    "    \n",
    "    dst = os.path.join(train_cats_dir, fname) \n",
    "    # D:\\AI course\\Quarter 3\\Class 2\\Dogs-vs-cats\\Cats n Dogs\\train\\ cat.o.jpg\n",
    "    shutil.copyfile(src, dst)\n"
   ]
  },
  {
   "cell_type": "code",
   "execution_count": 12,
   "id": "5999cbb6",
   "metadata": {},
   "outputs": [],
   "source": [
    "fnames = ['cat.{}.jpg'.format(i) for i in range(1000, 1500)]\n",
    "for fname in fnames:\n",
    "    src = os.path.join(original_dataset_dir, fname)\n",
    "    dst = os.path.join(validation_cats_dir, fname)\n",
    "    shutil.copyfile(src, dst)\n"
   ]
  },
  {
   "cell_type": "code",
   "execution_count": 13,
   "id": "5d61acc4",
   "metadata": {},
   "outputs": [],
   "source": [
    "fnames = ['cat.{}.jpg'.format(i) for i in range(1500, 2000)]\n",
    "for fname in fnames:\n",
    "    src = os.path.join(original_dataset_dir, fname)\n",
    "    dst = os.path.join(test_cats_dir, fname)\n",
    "    shutil.copyfile(src, dst)"
   ]
  },
  {
   "cell_type": "code",
   "execution_count": 14,
   "id": "9252445e",
   "metadata": {},
   "outputs": [],
   "source": [
    "fnames = ['dog.{}.jpg'.format(i) for i in range(1000)]\n",
    "for fname in fnames:\n",
    "    src = os.path.join(original_dataset_dir, fname)\n",
    "    dst = os.path.join(train_dogs_dir, fname)\n",
    "    shutil.copyfile(src, dst)\n",
    "fnames = ['dog.{}.jpg'.format(i) for i in range(1000, 1500)]\n",
    "for fname in fnames:\n",
    "    src = os.path.join(original_dataset_dir, fname)\n",
    "    dst = os.path.join(validation_dogs_dir, fname)\n",
    "    shutil.copyfile(src, dst)\n",
    "fnames = ['dog.{}.jpg'.format(i) for i in range(1500, 2000)]\n",
    "for fname in fnames:\n",
    "    src = os.path.join(original_dataset_dir, fname)\n",
    "    dst = os.path.join(test_dogs_dir, fname)\n",
    "    shutil.copyfile(src, dst)\n"
   ]
  },
  {
   "cell_type": "markdown",
   "id": "6a0856c1",
   "metadata": {},
   "source": [
    "# let’s count how many pictures are in each training split (train/validation/test):"
   ]
  },
  {
   "cell_type": "code",
   "execution_count": 15,
   "id": "bbd76ad8",
   "metadata": {},
   "outputs": [
    {
     "name": "stdout",
     "output_type": "stream",
     "text": [
      "total training cat images: 1000\n",
      "total training dog images: 1000\n",
      "total validation cat images: 500\n",
      "total validation dog images: 500\n",
      "total test cat images: 500\n",
      "total test dog images: 500\n"
     ]
    }
   ],
   "source": [
    "print('total training cat images:', len(os.listdir(train_cats_dir)))\n",
    "print('total training dog images:', len(os.listdir(train_dogs_dir)))\n",
    "print('total validation cat images:', len(os.listdir(validation_cats_dir)))\n",
    "print('total validation dog images:', len(os.listdir(validation_dogs_dir)))\n",
    "print('total test cat images:', len(os.listdir(test_cats_dir)))\n",
    "print('total test dog images:', len(os.listdir(test_dogs_dir)))\n",
    "\n"
   ]
  },
  {
   "cell_type": "markdown",
   "id": "c7c43235",
   "metadata": {},
   "source": [
    "# Building your network"
   ]
  },
  {
   "cell_type": "code",
   "execution_count": 16,
   "id": "5afbb08b",
   "metadata": {},
   "outputs": [],
   "source": [
    "from tensorflow.keras import layers\n",
    "from tensorflow.keras import models\n",
    "\n",
    "model = models.Sequential()\n",
    "\n",
    "model.add(layers.Conv2D(32, (3, 3), activation='relu',input_shape=(150, 150, 3)))\n",
    "model.add(layers.MaxPooling2D((2, 2)))\n",
    "\n",
    "model.add(layers.Conv2D(64, (3, 3), activation='relu'))\n",
    "model.add(layers.MaxPooling2D((2, 2)))\n",
    "\n",
    "model.add(layers.Conv2D(128, (3, 3), activation='relu'))\n",
    "model.add(layers.MaxPooling2D((2, 2)))\n",
    "\n",
    "model.add(layers.Conv2D(128, (3, 3), activation='relu'))\n",
    "model.add(layers.MaxPooling2D((2, 2)))\n",
    "\n",
    "model.add(layers.Flatten())\n",
    "model.add(layers.Dense(512, activation='relu'))\n",
    "model.add(layers.Dense(1, activation='sigmoid'))"
   ]
  },
  {
   "cell_type": "code",
   "execution_count": 17,
   "id": "2f477024",
   "metadata": {},
   "outputs": [
    {
     "name": "stdout",
     "output_type": "stream",
     "text": [
      "Model: \"sequential\"\n",
      "_________________________________________________________________\n",
      " Layer (type)                Output Shape              Param #   \n",
      "=================================================================\n",
      " conv2d (Conv2D)             (None, 148, 148, 32)      896       \n",
      "                                                                 \n",
      " max_pooling2d (MaxPooling2D  (None, 74, 74, 32)       0         \n",
      " )                                                               \n",
      "                                                                 \n",
      " conv2d_1 (Conv2D)           (None, 72, 72, 64)        18496     \n",
      "                                                                 \n",
      " max_pooling2d_1 (MaxPooling  (None, 36, 36, 64)       0         \n",
      " 2D)                                                             \n",
      "                                                                 \n",
      " conv2d_2 (Conv2D)           (None, 34, 34, 128)       73856     \n",
      "                                                                 \n",
      " max_pooling2d_2 (MaxPooling  (None, 17, 17, 128)      0         \n",
      " 2D)                                                             \n",
      "                                                                 \n",
      " conv2d_3 (Conv2D)           (None, 15, 15, 128)       147584    \n",
      "                                                                 \n",
      " max_pooling2d_3 (MaxPooling  (None, 7, 7, 128)        0         \n",
      " 2D)                                                             \n",
      "                                                                 \n",
      " flatten (Flatten)           (None, 6272)              0         \n",
      "                                                                 \n",
      " dense (Dense)               (None, 512)               3211776   \n",
      "                                                                 \n",
      " dense_1 (Dense)             (None, 1)                 513       \n",
      "                                                                 \n",
      "=================================================================\n",
      "Total params: 3,453,121\n",
      "Trainable params: 3,453,121\n",
      "Non-trainable params: 0\n",
      "_________________________________________________________________\n"
     ]
    }
   ],
   "source": [
    "model.summary()"
   ]
  },
  {
   "cell_type": "code",
   "execution_count": 19,
   "id": "fb32ac07",
   "metadata": {},
   "outputs": [],
   "source": [
    "from tensorflow.keras import optimizers\n",
    "model.compile(loss='binary_crossentropy',optimizer=optimizers.RMSprop(lr=1e-4),metrics=['acc'])"
   ]
  },
  {
   "cell_type": "markdown",
   "id": "62b1846f",
   "metadata": {},
   "source": [
    "# Using ImageDataGenerator to read images from directories"
   ]
  },
  {
   "cell_type": "code",
   "execution_count": 20,
   "id": "08e78d94",
   "metadata": {},
   "outputs": [
    {
     "name": "stdout",
     "output_type": "stream",
     "text": [
      "Found 2000 images belonging to 2 classes.\n",
      "Found 1000 images belonging to 2 classes.\n"
     ]
    }
   ],
   "source": [
    "from tensorflow.keras.preprocessing.image import ImageDataGenerator\n",
    "train_datagen = ImageDataGenerator(rescale=1./255)\n",
    "test_datagen = ImageDataGenerator(rescale=1./255)\n",
    "train_generator = train_datagen.flow_from_directory(train_dir, target_size=(150, 150), batch_size=20, class_mode='binary')\n",
    "\n",
    "\n",
    "validation_generator = test_datagen.flow_from_directory(validation_dir,target_size=(150, 150),batch_size=20,class_mode='binary')\n"
   ]
  },
  {
   "cell_type": "code",
   "execution_count": 21,
   "id": "63ff9929",
   "metadata": {},
   "outputs": [
    {
     "name": "stdout",
     "output_type": "stream",
     "text": [
      "data batch shape: (20, 150, 150, 3)\n",
      "labels batch shape: (20,)\n"
     ]
    }
   ],
   "source": [
    " for data_batch, labels_batch in train_generator:\n",
    "        print('data batch shape:', data_batch.shape)\n",
    "        print('labels batch shape:', labels_batch.shape)\n",
    "        break"
   ]
  },
  {
   "cell_type": "markdown",
   "id": "7e6e5137",
   "metadata": {},
   "source": [
    "#  Fitting the model using a batch generator"
   ]
  },
  {
   "cell_type": "code",
   "execution_count": 22,
   "id": "2f529515",
   "metadata": {},
   "outputs": [
    {
     "name": "stderr",
     "output_type": "stream",
     "text": [
      "C:\\Users\\Leo\\AppData\\Local\\Temp/ipykernel_6740/579704996.py:1: UserWarning: `Model.fit_generator` is deprecated and will be removed in a future version. Please use `Model.fit`, which supports generators.\n",
      "  history = model.fit_generator(train_generator,steps_per_epoch=100,epochs=30,validation_data=validation_generator,validation_steps=50)\n"
     ]
    },
    {
     "name": "stdout",
     "output_type": "stream",
     "text": [
      "Epoch 1/30\n",
      "100/100 [==============================] - 51s 487ms/step - loss: 0.6962 - acc: 0.5280 - val_loss: 0.6703 - val_acc: 0.6280\n",
      "Epoch 2/30\n",
      "100/100 [==============================] - 35s 348ms/step - loss: 0.6616 - acc: 0.6125 - val_loss: 0.6469 - val_acc: 0.6190\n",
      "Epoch 3/30\n",
      "100/100 [==============================] - 36s 355ms/step - loss: 0.6187 - acc: 0.6540 - val_loss: 0.6172 - val_acc: 0.6520\n",
      "Epoch 4/30\n",
      "100/100 [==============================] - 35s 350ms/step - loss: 0.5762 - acc: 0.7015 - val_loss: 0.6111 - val_acc: 0.6740\n",
      "Epoch 5/30\n",
      "100/100 [==============================] - 36s 358ms/step - loss: 0.5477 - acc: 0.7305 - val_loss: 0.5863 - val_acc: 0.6990\n",
      "Epoch 6/30\n",
      "100/100 [==============================] - 35s 355ms/step - loss: 0.5137 - acc: 0.7530 - val_loss: 0.5700 - val_acc: 0.7100\n",
      "Epoch 7/30\n",
      "100/100 [==============================] - 35s 346ms/step - loss: 0.4863 - acc: 0.7610 - val_loss: 0.5758 - val_acc: 0.7040\n",
      "Epoch 8/30\n",
      "100/100 [==============================] - 35s 354ms/step - loss: 0.4682 - acc: 0.7750 - val_loss: 0.6823 - val_acc: 0.6330\n",
      "Epoch 9/30\n",
      "100/100 [==============================] - 37s 374ms/step - loss: 0.4352 - acc: 0.7985 - val_loss: 0.5730 - val_acc: 0.7100\n",
      "Epoch 10/30\n",
      "100/100 [==============================] - 36s 362ms/step - loss: 0.4119 - acc: 0.8040 - val_loss: 0.6073 - val_acc: 0.6940\n",
      "Epoch 11/30\n",
      "100/100 [==============================] - 39s 385ms/step - loss: 0.3922 - acc: 0.8250 - val_loss: 0.5715 - val_acc: 0.7120\n",
      "Epoch 12/30\n",
      "100/100 [==============================] - 36s 358ms/step - loss: 0.3594 - acc: 0.8445 - val_loss: 0.5955 - val_acc: 0.7220\n",
      "Epoch 13/30\n",
      "100/100 [==============================] - 36s 359ms/step - loss: 0.3284 - acc: 0.8580 - val_loss: 0.5939 - val_acc: 0.7120\n",
      "Epoch 14/30\n",
      "100/100 [==============================] - 36s 363ms/step - loss: 0.3107 - acc: 0.8670 - val_loss: 0.6057 - val_acc: 0.7250\n",
      "Epoch 15/30\n",
      "100/100 [==============================] - 36s 361ms/step - loss: 0.2775 - acc: 0.8870 - val_loss: 0.6808 - val_acc: 0.6900\n",
      "Epoch 16/30\n",
      "100/100 [==============================] - 36s 358ms/step - loss: 0.2573 - acc: 0.8915 - val_loss: 0.5972 - val_acc: 0.7340\n",
      "Epoch 17/30\n",
      "100/100 [==============================] - 35s 352ms/step - loss: 0.2273 - acc: 0.9150 - val_loss: 0.6765 - val_acc: 0.7260\n",
      "Epoch 18/30\n",
      "100/100 [==============================] - 35s 346ms/step - loss: 0.2046 - acc: 0.9245 - val_loss: 0.7083 - val_acc: 0.7030\n",
      "Epoch 19/30\n",
      "100/100 [==============================] - 35s 345ms/step - loss: 0.1862 - acc: 0.9345 - val_loss: 0.7137 - val_acc: 0.7230\n",
      "Epoch 20/30\n",
      "100/100 [==============================] - 34s 344ms/step - loss: 0.1649 - acc: 0.9400 - val_loss: 0.6989 - val_acc: 0.7160\n",
      "Epoch 21/30\n",
      "100/100 [==============================] - 35s 348ms/step - loss: 0.1486 - acc: 0.9465 - val_loss: 0.8054 - val_acc: 0.7090\n",
      "Epoch 22/30\n",
      "100/100 [==============================] - 35s 348ms/step - loss: 0.1299 - acc: 0.9555 - val_loss: 0.8659 - val_acc: 0.7150\n",
      "Epoch 23/30\n",
      "100/100 [==============================] - 35s 346ms/step - loss: 0.1143 - acc: 0.9605 - val_loss: 0.8035 - val_acc: 0.7070\n",
      "Epoch 24/30\n",
      "100/100 [==============================] - 35s 350ms/step - loss: 0.0910 - acc: 0.9750 - val_loss: 0.9085 - val_acc: 0.7170\n",
      "Epoch 25/30\n",
      "100/100 [==============================] - 35s 346ms/step - loss: 0.0870 - acc: 0.9695 - val_loss: 0.8771 - val_acc: 0.7080\n",
      "Epoch 26/30\n",
      "100/100 [==============================] - 34s 336ms/step - loss: 0.0701 - acc: 0.9800 - val_loss: 0.8856 - val_acc: 0.7170\n",
      "Epoch 27/30\n",
      "100/100 [==============================] - 35s 346ms/step - loss: 0.0609 - acc: 0.9850 - val_loss: 0.9635 - val_acc: 0.7120\n",
      "Epoch 28/30\n",
      "100/100 [==============================] - 35s 346ms/step - loss: 0.0553 - acc: 0.9850 - val_loss: 0.9700 - val_acc: 0.7170\n",
      "Epoch 29/30\n",
      "100/100 [==============================] - 35s 351ms/step - loss: 0.0487 - acc: 0.9855 - val_loss: 0.9402 - val_acc: 0.7250\n",
      "Epoch 30/30\n",
      "100/100 [==============================] - 35s 352ms/step - loss: 0.0386 - acc: 0.9865 - val_loss: 1.0145 - val_acc: 0.7160\n"
     ]
    }
   ],
   "source": [
    "history = model.fit_generator(train_generator,steps_per_epoch=100,epochs=30,validation_data=validation_generator,validation_steps=50)"
   ]
  },
  {
   "cell_type": "markdown",
   "id": "cc11ab73",
   "metadata": {},
   "source": [
    "# pdf page 160 book page 137 Listing 5.8 completed"
   ]
  },
  {
   "cell_type": "code",
   "execution_count": null,
   "id": "8f88368a",
   "metadata": {},
   "outputs": [],
   "source": []
  }
 ],
 "metadata": {
  "kernelspec": {
   "display_name": "Python 3 (ipykernel)",
   "language": "python",
   "name": "python3"
  },
  "language_info": {
   "codemirror_mode": {
    "name": "ipython",
    "version": 3
   },
   "file_extension": ".py",
   "mimetype": "text/x-python",
   "name": "python",
   "nbconvert_exporter": "python",
   "pygments_lexer": "ipython3",
   "version": "3.9.7"
  }
 },
 "nbformat": 4,
 "nbformat_minor": 5
}
